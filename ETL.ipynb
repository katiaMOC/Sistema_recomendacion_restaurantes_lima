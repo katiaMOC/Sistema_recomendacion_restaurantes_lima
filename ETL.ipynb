{
 "cells": [
  {
   "cell_type": "markdown",
   "metadata": {},
   "source": [
    "# Importaciones "
   ]
  },
  {
   "cell_type": "code",
   "execution_count": 77,
   "metadata": {},
   "outputs": [],
   "source": [
    "import pandas as pd\n",
    "import funciones as fun"
   ]
  },
  {
   "cell_type": "markdown",
   "metadata": {},
   "source": [
    "# Cargamos los datasets"
   ]
  },
  {
   "cell_type": "markdown",
   "metadata": {},
   "source": [
    "Cargamos el dataset restaurates"
   ]
  },
  {
   "cell_type": "code",
   "execution_count": 78,
   "metadata": {},
   "outputs": [
    {
     "data": {
      "text/html": [
       "<div>\n",
       "<style scoped>\n",
       "    .dataframe tbody tr th:only-of-type {\n",
       "        vertical-align: middle;\n",
       "    }\n",
       "\n",
       "    .dataframe tbody tr th {\n",
       "        vertical-align: top;\n",
       "    }\n",
       "\n",
       "    .dataframe thead th {\n",
       "        text-align: right;\n",
       "    }\n",
       "</style>\n",
       "<table border=\"1\" class=\"dataframe\">\n",
       "  <thead>\n",
       "    <tr style=\"text-align: right;\">\n",
       "      <th></th>\n",
       "      <th>id</th>\n",
       "      <th>name</th>\n",
       "      <th>tag</th>\n",
       "      <th>x</th>\n",
       "      <th>y</th>\n",
       "      <th>district</th>\n",
       "      <th>IDDIST</th>\n",
       "      <th>direction</th>\n",
       "      <th>stars</th>\n",
       "      <th>n_reviews</th>\n",
       "      <th>min_price</th>\n",
       "      <th>max_price</th>\n",
       "      <th>platform</th>\n",
       "    </tr>\n",
       "  </thead>\n",
       "  <tbody>\n",
       "    <tr>\n",
       "      <th>0</th>\n",
       "      <td>71036</td>\n",
       "      <td>Restaurante Statera</td>\n",
       "      <td>$$$$||Peruana||contemporánea||Opciones sin glu...</td>\n",
       "      <td>-12.115658</td>\n",
       "      <td>-77.043440</td>\n",
       "      <td>MIRAFLORES</td>\n",
       "      <td>150122</td>\n",
       "      <td>Avenida Mariscal La Mar 463, Miraflores, Lima ...</td>\n",
       "      <td>50</td>\n",
       "      <td>130</td>\n",
       "      <td>80.0</td>\n",
       "      <td>280.0</td>\n",
       "      <td>tripadvisor</td>\n",
       "    </tr>\n",
       "    <tr>\n",
       "      <th>1</th>\n",
       "      <td>72471</td>\n",
       "      <td>Maras Restaurante</td>\n",
       "      <td>$$$$||Peruana||Latina||Internacional||</td>\n",
       "      <td>-12.092106</td>\n",
       "      <td>-77.024660</td>\n",
       "      <td>SAN ISIDRO</td>\n",
       "      <td>150131</td>\n",
       "      <td>Amador Merino Reyna 551 Esquina Calle Begonias...</td>\n",
       "      <td>45</td>\n",
       "      <td>675</td>\n",
       "      <td>158.0</td>\n",
       "      <td>237.0</td>\n",
       "      <td>tripadvisor</td>\n",
       "    </tr>\n",
       "    <tr>\n",
       "      <th>2</th>\n",
       "      <td>29667</td>\n",
       "      <td>Ventarrón Restaurante Chiclayano &amp; Barra</td>\n",
       "      <td>$$ - $$$||Peruana||Mariscos||Gastropub||</td>\n",
       "      <td>-12.149373</td>\n",
       "      <td>-77.020706</td>\n",
       "      <td>BARRANCO</td>\n",
       "      <td>150104</td>\n",
       "      <td>Avenida Grau 276 Frente al Parque Municipal, L...</td>\n",
       "      <td>45</td>\n",
       "      <td>304</td>\n",
       "      <td>12.0</td>\n",
       "      <td>72.0</td>\n",
       "      <td>tripadvisor</td>\n",
       "    </tr>\n",
       "  </tbody>\n",
       "</table>\n",
       "</div>"
      ],
      "text/plain": [
       "      id                                      name  \\\n",
       "0  71036                       Restaurante Statera   \n",
       "1  72471                         Maras Restaurante   \n",
       "2  29667  Ventarrón Restaurante Chiclayano & Barra   \n",
       "\n",
       "                                                 tag          x          y  \\\n",
       "0  $$$$||Peruana||contemporánea||Opciones sin glu... -12.115658 -77.043440   \n",
       "1             $$$$||Peruana||Latina||Internacional|| -12.092106 -77.024660   \n",
       "2           $$ - $$$||Peruana||Mariscos||Gastropub|| -12.149373 -77.020706   \n",
       "\n",
       "     district  IDDIST                                          direction  \\\n",
       "0  MIRAFLORES  150122  Avenida Mariscal La Mar 463, Miraflores, Lima ...   \n",
       "1  SAN ISIDRO  150131  Amador Merino Reyna 551 Esquina Calle Begonias...   \n",
       "2    BARRANCO  150104  Avenida Grau 276 Frente al Parque Municipal, L...   \n",
       "\n",
       "   stars  n_reviews min_price max_price     platform  \n",
       "0     50        130      80.0     280.0  tripadvisor  \n",
       "1     45        675     158.0     237.0  tripadvisor  \n",
       "2     45        304      12.0      72.0  tripadvisor  "
      ]
     },
     "execution_count": 78,
     "metadata": {},
     "output_type": "execute_result"
    }
   ],
   "source": [
    "restaurants = pd.read_csv('Data/restaurants.csv') \n",
    "restaurants.head(3)"
   ]
  },
  {
   "cell_type": "code",
   "execution_count": 79,
   "metadata": {},
   "outputs": [
    {
     "data": {
      "text/plain": [
       "Index(['id', 'name', 'tag', 'x', 'y', 'district', 'IDDIST', 'direction',\n",
       "       'stars', 'n_reviews', 'min_price', 'max_price', 'platform'],\n",
       "      dtype='object')"
      ]
     },
     "execution_count": 79,
     "metadata": {},
     "output_type": "execute_result"
    }
   ],
   "source": [
    "restaurants.columns"
   ]
  },
  {
   "cell_type": "code",
   "execution_count": 80,
   "metadata": {},
   "outputs": [
    {
     "data": {
      "text/plain": [
       "array(['tripadvisor', 'googleplaces'], dtype=object)"
      ]
     },
     "execution_count": 80,
     "metadata": {},
     "output_type": "execute_result"
    }
   ],
   "source": [
    "restaurants['platform'].unique()"
   ]
  },
  {
   "cell_type": "markdown",
   "metadata": {},
   "source": [
    "En este dataframe se puede ver los datos de restaurantes, tales como:\n",
    "* id : Identificador del restaurante \n",
    "* name : nombre del restaurante\n",
    "* tag : Tipos de comida que ofrece el restaurante \n",
    "* x : longitud\n",
    "* y : latitud\n",
    "* district : Nombre del distrito donde se ubica el restaurante \n",
    "* IDDIST : identificador del distrito \n",
    "* direction : Direccion del restaurante\n",
    "* stars : numero de estrellas\n",
    "* n_reviews : Numero de reseñas \n",
    "* min_price : precio minimo de la carta\n",
    "* max_price : precio maximo de la carta \n",
    "* platform : plataforma de donde se obtuvo el dato "
   ]
  },
  {
   "cell_type": "markdown",
   "metadata": {},
   "source": [
    "# Modificación de los nombres de columnas "
   ]
  },
  {
   "cell_type": "code",
   "execution_count": 81,
   "metadata": {},
   "outputs": [],
   "source": [
    "nuevos_nombres = {\n",
    "    'id': 'id_restaurant',\n",
    "    'name': 'name_restaurat',\n",
    "    'tag': 'food_type',\n",
    "    'x': 'longitud',\n",
    "    'y': 'latitud',\n",
    "    'district': 'name_district',\n",
    "    'stars': 'cant_stars',\n",
    "    'n_reviews': 'cant_reviews'\n",
    "}\n",
    "\n",
    "# Utiliza el método rename() con el diccionario de nombres\n",
    "restaurants.rename(columns=nuevos_nombres, inplace=True)"
   ]
  },
  {
   "cell_type": "markdown",
   "metadata": {},
   "source": [
    "Eliminaremos las columnas `IDDIST` y `platform`, debido a que son irrelevantes. "
   ]
  },
  {
   "cell_type": "code",
   "execution_count": 82,
   "metadata": {},
   "outputs": [],
   "source": [
    "# Elimina las columnas \"IDDIST\" y \"platform\"\n",
    "restaurants = restaurants.drop([\"IDDIST\", \"platform\"], axis=1)"
   ]
  },
  {
   "cell_type": "markdown",
   "metadata": {},
   "source": [
    "# Ahora verificaremos los datos nulos, duplicados, etc."
   ]
  },
  {
   "cell_type": "markdown",
   "metadata": {},
   "source": [
    "Función para verificar tipo de datos, donde nos mostrará el numero de datos, el porcentaje de nulos y cantidad de nulos."
   ]
  },
  {
   "cell_type": "code",
   "execution_count": 83,
   "metadata": {},
   "outputs": [],
   "source": [
    "def verificar_tipo_datos(df):\n",
    "    '''\n",
    "    Realiza un análisis de los tipos de datos y la presencia de valores nulos en un DataFrame.\n",
    "\n",
    "    Esta función toma un DataFrame como entrada y devuelve un resumen que incluye información sobre\n",
    "    los tipos de datos en cada columna, el porcentaje de valores no nulos y nulos, así como la\n",
    "    cantidad de valores nulos por columna.\n",
    "    '''\n",
    "\n",
    "    mi_dict = {\"nombre_campo\": [], \"tipo_datos\": [], \"no_nulos_%\": [], \"nulos_%\": [], \"nulos\": []}\n",
    "\n",
    "    for columna in df.columns:\n",
    "        porcentaje_no_nulos = (df[columna].count() / len(df)) * 100\n",
    "        mi_dict[\"nombre_campo\"].append(columna)\n",
    "        mi_dict[\"tipo_datos\"].append(df[columna].apply(type).unique())\n",
    "        mi_dict[\"no_nulos_%\"].append(round(porcentaje_no_nulos, 2))\n",
    "        mi_dict[\"nulos_%\"].append(round(100-porcentaje_no_nulos, 2))\n",
    "        mi_dict[\"nulos\"].append(df[columna].isnull().sum())\n",
    "\n",
    "    df_info = pd.DataFrame(mi_dict)\n",
    "        \n",
    "    return df_info"
   ]
  },
  {
   "cell_type": "code",
   "execution_count": 84,
   "metadata": {},
   "outputs": [
    {
     "data": {
      "text/html": [
       "<div>\n",
       "<style scoped>\n",
       "    .dataframe tbody tr th:only-of-type {\n",
       "        vertical-align: middle;\n",
       "    }\n",
       "\n",
       "    .dataframe tbody tr th {\n",
       "        vertical-align: top;\n",
       "    }\n",
       "\n",
       "    .dataframe thead th {\n",
       "        text-align: right;\n",
       "    }\n",
       "</style>\n",
       "<table border=\"1\" class=\"dataframe\">\n",
       "  <thead>\n",
       "    <tr style=\"text-align: right;\">\n",
       "      <th></th>\n",
       "      <th>nombre_campo</th>\n",
       "      <th>tipo_datos</th>\n",
       "      <th>no_nulos_%</th>\n",
       "      <th>nulos_%</th>\n",
       "      <th>nulos</th>\n",
       "    </tr>\n",
       "  </thead>\n",
       "  <tbody>\n",
       "    <tr>\n",
       "      <th>0</th>\n",
       "      <td>id_restaurant</td>\n",
       "      <td>[&lt;class 'int'&gt;]</td>\n",
       "      <td>100.00</td>\n",
       "      <td>0.00</td>\n",
       "      <td>0</td>\n",
       "    </tr>\n",
       "    <tr>\n",
       "      <th>1</th>\n",
       "      <td>name_restaurat</td>\n",
       "      <td>[&lt;class 'str'&gt;]</td>\n",
       "      <td>100.00</td>\n",
       "      <td>0.00</td>\n",
       "      <td>0</td>\n",
       "    </tr>\n",
       "    <tr>\n",
       "      <th>2</th>\n",
       "      <td>food_type</td>\n",
       "      <td>[&lt;class 'str'&gt;]</td>\n",
       "      <td>100.00</td>\n",
       "      <td>0.00</td>\n",
       "      <td>0</td>\n",
       "    </tr>\n",
       "    <tr>\n",
       "      <th>3</th>\n",
       "      <td>longitud</td>\n",
       "      <td>[&lt;class 'float'&gt;]</td>\n",
       "      <td>100.00</td>\n",
       "      <td>0.00</td>\n",
       "      <td>0</td>\n",
       "    </tr>\n",
       "    <tr>\n",
       "      <th>4</th>\n",
       "      <td>latitud</td>\n",
       "      <td>[&lt;class 'float'&gt;]</td>\n",
       "      <td>100.00</td>\n",
       "      <td>0.00</td>\n",
       "      <td>0</td>\n",
       "    </tr>\n",
       "    <tr>\n",
       "      <th>5</th>\n",
       "      <td>name_district</td>\n",
       "      <td>[&lt;class 'str'&gt;]</td>\n",
       "      <td>100.00</td>\n",
       "      <td>0.00</td>\n",
       "      <td>0</td>\n",
       "    </tr>\n",
       "    <tr>\n",
       "      <th>6</th>\n",
       "      <td>direction</td>\n",
       "      <td>[&lt;class 'str'&gt;]</td>\n",
       "      <td>100.00</td>\n",
       "      <td>0.00</td>\n",
       "      <td>0</td>\n",
       "    </tr>\n",
       "    <tr>\n",
       "      <th>7</th>\n",
       "      <td>cant_stars</td>\n",
       "      <td>[&lt;class 'int'&gt;]</td>\n",
       "      <td>100.00</td>\n",
       "      <td>0.00</td>\n",
       "      <td>0</td>\n",
       "    </tr>\n",
       "    <tr>\n",
       "      <th>8</th>\n",
       "      <td>cant_reviews</td>\n",
       "      <td>[&lt;class 'int'&gt;]</td>\n",
       "      <td>100.00</td>\n",
       "      <td>0.00</td>\n",
       "      <td>0</td>\n",
       "    </tr>\n",
       "    <tr>\n",
       "      <th>9</th>\n",
       "      <td>min_price</td>\n",
       "      <td>[&lt;class 'str'&gt;, &lt;class 'float'&gt;]</td>\n",
       "      <td>99.99</td>\n",
       "      <td>0.01</td>\n",
       "      <td>1</td>\n",
       "    </tr>\n",
       "    <tr>\n",
       "      <th>10</th>\n",
       "      <td>max_price</td>\n",
       "      <td>[&lt;class 'str'&gt;, &lt;class 'float'&gt;]</td>\n",
       "      <td>99.99</td>\n",
       "      <td>0.01</td>\n",
       "      <td>1</td>\n",
       "    </tr>\n",
       "  </tbody>\n",
       "</table>\n",
       "</div>"
      ],
      "text/plain": [
       "      nombre_campo                        tipo_datos  no_nulos_%  nulos_%  \\\n",
       "0    id_restaurant                   [<class 'int'>]      100.00     0.00   \n",
       "1   name_restaurat                   [<class 'str'>]      100.00     0.00   \n",
       "2        food_type                   [<class 'str'>]      100.00     0.00   \n",
       "3         longitud                 [<class 'float'>]      100.00     0.00   \n",
       "4          latitud                 [<class 'float'>]      100.00     0.00   \n",
       "5    name_district                   [<class 'str'>]      100.00     0.00   \n",
       "6        direction                   [<class 'str'>]      100.00     0.00   \n",
       "7       cant_stars                   [<class 'int'>]      100.00     0.00   \n",
       "8     cant_reviews                   [<class 'int'>]      100.00     0.00   \n",
       "9        min_price  [<class 'str'>, <class 'float'>]       99.99     0.01   \n",
       "10       max_price  [<class 'str'>, <class 'float'>]       99.99     0.01   \n",
       "\n",
       "    nulos  \n",
       "0       0  \n",
       "1       0  \n",
       "2       0  \n",
       "3       0  \n",
       "4       0  \n",
       "5       0  \n",
       "6       0  \n",
       "7       0  \n",
       "8       0  \n",
       "9       1  \n",
       "10      1  "
      ]
     },
     "execution_count": 84,
     "metadata": {},
     "output_type": "execute_result"
    }
   ],
   "source": [
    "verificar_tipo_datos(restaurants)"
   ]
  },
  {
   "cell_type": "code",
   "execution_count": 85,
   "metadata": {},
   "outputs": [
    {
     "data": {
      "text/plain": [
       "array([50, 45, 40, 35, 30, 25, 20, 10, 15, 44, 42, 38, 41, 39, 46, 43, 47,\n",
       "       48, 37, 36, 32, 28, 33, 49, 31, 23, 34, 27, 29, 17, 18, 13, 24, 26,\n",
       "       21, 22], dtype=int64)"
      ]
     },
     "execution_count": 85,
     "metadata": {},
     "output_type": "execute_result"
    }
   ],
   "source": [
    "restaurants['cant_stars'].unique()"
   ]
  },
  {
   "cell_type": "code",
   "execution_count": 86,
   "metadata": {},
   "outputs": [
    {
     "data": {
      "text/plain": [
       "0"
      ]
     },
     "execution_count": 86,
     "metadata": {},
     "output_type": "execute_result"
    }
   ],
   "source": [
    "# Verificar duplicados\n",
    "restaurants.duplicated().sum()"
   ]
  },
  {
   "cell_type": "code",
   "execution_count": 87,
   "metadata": {},
   "outputs": [
    {
     "data": {
      "text/plain": [
       "id_restaurant     0\n",
       "name_restaurat    0\n",
       "food_type         0\n",
       "longitud          0\n",
       "latitud           0\n",
       "name_district     0\n",
       "direction         0\n",
       "cant_stars        0\n",
       "cant_reviews      0\n",
       "min_price         1\n",
       "max_price         1\n",
       "dtype: int64"
      ]
     },
     "execution_count": 87,
     "metadata": {},
     "output_type": "execute_result"
    }
   ],
   "source": [
    "# Contar valores nulos en cada columna\n",
    "restaurants.isnull().sum()\n"
   ]
  },
  {
   "cell_type": "code",
   "execution_count": 88,
   "metadata": {},
   "outputs": [
    {
     "data": {
      "text/html": [
       "<div>\n",
       "<style scoped>\n",
       "    .dataframe tbody tr th:only-of-type {\n",
       "        vertical-align: middle;\n",
       "    }\n",
       "\n",
       "    .dataframe tbody tr th {\n",
       "        vertical-align: top;\n",
       "    }\n",
       "\n",
       "    .dataframe thead th {\n",
       "        text-align: right;\n",
       "    }\n",
       "</style>\n",
       "<table border=\"1\" class=\"dataframe\">\n",
       "  <thead>\n",
       "    <tr style=\"text-align: right;\">\n",
       "      <th></th>\n",
       "      <th>id_restaurant</th>\n",
       "      <th>name_restaurat</th>\n",
       "      <th>food_type</th>\n",
       "      <th>longitud</th>\n",
       "      <th>latitud</th>\n",
       "      <th>name_district</th>\n",
       "      <th>direction</th>\n",
       "      <th>cant_stars</th>\n",
       "      <th>cant_reviews</th>\n",
       "      <th>min_price</th>\n",
       "      <th>max_price</th>\n",
       "    </tr>\n",
       "  </thead>\n",
       "  <tbody>\n",
       "    <tr>\n",
       "      <th>1716</th>\n",
       "      <td>206521</td>\n",
       "      <td>Eco Resto Park</td>\n",
       "      <td>Restaurante</td>\n",
       "      <td>-12.216637</td>\n",
       "      <td>-76.863226</td>\n",
       "      <td>PACHACAMAC</td>\n",
       "      <td>Calle 5 urbanización Casa Blanca 154A MzE Pach...</td>\n",
       "      <td>44</td>\n",
       "      <td>611</td>\n",
       "      <td>NaN</td>\n",
       "      <td>NaN</td>\n",
       "    </tr>\n",
       "  </tbody>\n",
       "</table>\n",
       "</div>"
      ],
      "text/plain": [
       "      id_restaurant  name_restaurat    food_type   longitud    latitud  \\\n",
       "1716         206521  Eco Resto Park  Restaurante -12.216637 -76.863226   \n",
       "\n",
       "     name_district                                          direction  \\\n",
       "1716    PACHACAMAC  Calle 5 urbanización Casa Blanca 154A MzE Pach...   \n",
       "\n",
       "      cant_stars  cant_reviews min_price max_price  \n",
       "1716          44           611       NaN       NaN  "
      ]
     },
     "execution_count": 88,
     "metadata": {},
     "output_type": "execute_result"
    }
   ],
   "source": [
    "restaurants[restaurants['min_price'].isnull()]"
   ]
  },
  {
   "cell_type": "code",
   "execution_count": 89,
   "metadata": {},
   "outputs": [
    {
     "data": {
      "text/html": [
       "<div>\n",
       "<style scoped>\n",
       "    .dataframe tbody tr th:only-of-type {\n",
       "        vertical-align: middle;\n",
       "    }\n",
       "\n",
       "    .dataframe tbody tr th {\n",
       "        vertical-align: top;\n",
       "    }\n",
       "\n",
       "    .dataframe thead th {\n",
       "        text-align: right;\n",
       "    }\n",
       "</style>\n",
       "<table border=\"1\" class=\"dataframe\">\n",
       "  <thead>\n",
       "    <tr style=\"text-align: right;\">\n",
       "      <th></th>\n",
       "      <th>id_restaurant</th>\n",
       "      <th>name_restaurat</th>\n",
       "      <th>food_type</th>\n",
       "      <th>longitud</th>\n",
       "      <th>latitud</th>\n",
       "      <th>name_district</th>\n",
       "      <th>direction</th>\n",
       "      <th>cant_stars</th>\n",
       "      <th>cant_reviews</th>\n",
       "      <th>min_price</th>\n",
       "      <th>max_price</th>\n",
       "    </tr>\n",
       "  </thead>\n",
       "  <tbody>\n",
       "    <tr>\n",
       "      <th>1716</th>\n",
       "      <td>206521</td>\n",
       "      <td>Eco Resto Park</td>\n",
       "      <td>Restaurante</td>\n",
       "      <td>-12.216637</td>\n",
       "      <td>-76.863226</td>\n",
       "      <td>PACHACAMAC</td>\n",
       "      <td>Calle 5 urbanización Casa Blanca 154A MzE Pach...</td>\n",
       "      <td>44</td>\n",
       "      <td>611</td>\n",
       "      <td>NaN</td>\n",
       "      <td>NaN</td>\n",
       "    </tr>\n",
       "  </tbody>\n",
       "</table>\n",
       "</div>"
      ],
      "text/plain": [
       "      id_restaurant  name_restaurat    food_type   longitud    latitud  \\\n",
       "1716         206521  Eco Resto Park  Restaurante -12.216637 -76.863226   \n",
       "\n",
       "     name_district                                          direction  \\\n",
       "1716    PACHACAMAC  Calle 5 urbanización Casa Blanca 154A MzE Pach...   \n",
       "\n",
       "      cant_stars  cant_reviews min_price max_price  \n",
       "1716          44           611       NaN       NaN  "
      ]
     },
     "execution_count": 89,
     "metadata": {},
     "output_type": "execute_result"
    }
   ],
   "source": [
    "restaurants[restaurants['max_price'].isnull()]"
   ]
  },
  {
   "cell_type": "markdown",
   "metadata": {},
   "source": [
    "Eliminamos la fila que contiene nulos en los precios. "
   ]
  },
  {
   "cell_type": "code",
   "execution_count": 90,
   "metadata": {},
   "outputs": [],
   "source": [
    "restaurants = restaurants.drop(1716)"
   ]
  },
  {
   "cell_type": "markdown",
   "metadata": {},
   "source": [
    "Verificamos los nombres de los distritos de Lima, se puede ver que hay 44 distritos, esto incliuyendo Lima como tal. "
   ]
  },
  {
   "cell_type": "code",
   "execution_count": 91,
   "metadata": {},
   "outputs": [
    {
     "data": {
      "text/plain": [
       "44"
      ]
     },
     "execution_count": 91,
     "metadata": {},
     "output_type": "execute_result"
    }
   ],
   "source": [
    "restaurants['name_district'].nunique()"
   ]
  },
  {
   "cell_type": "code",
   "execution_count": 92,
   "metadata": {},
   "outputs": [
    {
     "data": {
      "text/plain": [
       "array(['MIRAFLORES', 'SAN ISIDRO', 'BARRANCO', 'SAN BORJA', 'CHORRILLOS',\n",
       "       'LIMA', 'LA VICTORIA', 'SURQUILLO', 'JESUS MARIA', ' ',\n",
       "       'LA MOLINA', 'LURIN', 'VILLA MARIA DEL TRIUNFO', 'LINCE',\n",
       "       'SANTIAGO DE SURCO', 'SAN MIGUEL', 'SAN MARTIN DE PORRES', 'ATE',\n",
       "       'MAGDALENA DEL MAR', 'CHACLACAYO', 'PUNTA HERMOSA',\n",
       "       'SAN JUAN DE MIRAFLORES', 'PUEBLO LIBRE', 'COMAS', 'SANTA ANITA',\n",
       "       'CARABAYLLO', 'PACHACAMAC', 'CIENEGUILLA', 'SAN LUIS',\n",
       "       'SAN JUAN DE LURIGANCHO', 'RIMAC', 'LOS OLIVOS', 'BREÑA',\n",
       "       'PUENTE PIEDRA', 'LURIGANCHO', 'VILLA EL SALVADOR',\n",
       "       'INDEPENDENCIA', 'EL AGUSTINO', 'SANTA ROSA', 'ANCON', 'PUCUSANA',\n",
       "       'SANTA MARIA DEL MAR', 'SAN BARTOLO', 'PUNTA NEGRA'], dtype=object)"
      ]
     },
     "execution_count": 92,
     "metadata": {},
     "output_type": "execute_result"
    }
   ],
   "source": [
    "restaurants['name_district'].unique()"
   ]
  },
  {
   "cell_type": "code",
   "execution_count": 93,
   "metadata": {},
   "outputs": [
    {
     "data": {
      "text/html": [
       "<div>\n",
       "<style scoped>\n",
       "    .dataframe tbody tr th:only-of-type {\n",
       "        vertical-align: middle;\n",
       "    }\n",
       "\n",
       "    .dataframe tbody tr th {\n",
       "        vertical-align: top;\n",
       "    }\n",
       "\n",
       "    .dataframe thead th {\n",
       "        text-align: right;\n",
       "    }\n",
       "</style>\n",
       "<table border=\"1\" class=\"dataframe\">\n",
       "  <thead>\n",
       "    <tr style=\"text-align: right;\">\n",
       "      <th></th>\n",
       "      <th>nombre_campo</th>\n",
       "      <th>tipo_datos</th>\n",
       "      <th>no_nulos_%</th>\n",
       "      <th>nulos_%</th>\n",
       "      <th>nulos</th>\n",
       "    </tr>\n",
       "  </thead>\n",
       "  <tbody>\n",
       "    <tr>\n",
       "      <th>0</th>\n",
       "      <td>id_restaurant</td>\n",
       "      <td>[&lt;class 'int'&gt;]</td>\n",
       "      <td>100.0</td>\n",
       "      <td>0.0</td>\n",
       "      <td>0</td>\n",
       "    </tr>\n",
       "    <tr>\n",
       "      <th>1</th>\n",
       "      <td>name_restaurat</td>\n",
       "      <td>[&lt;class 'str'&gt;]</td>\n",
       "      <td>100.0</td>\n",
       "      <td>0.0</td>\n",
       "      <td>0</td>\n",
       "    </tr>\n",
       "    <tr>\n",
       "      <th>2</th>\n",
       "      <td>food_type</td>\n",
       "      <td>[&lt;class 'str'&gt;]</td>\n",
       "      <td>100.0</td>\n",
       "      <td>0.0</td>\n",
       "      <td>0</td>\n",
       "    </tr>\n",
       "    <tr>\n",
       "      <th>3</th>\n",
       "      <td>longitud</td>\n",
       "      <td>[&lt;class 'float'&gt;]</td>\n",
       "      <td>100.0</td>\n",
       "      <td>0.0</td>\n",
       "      <td>0</td>\n",
       "    </tr>\n",
       "    <tr>\n",
       "      <th>4</th>\n",
       "      <td>latitud</td>\n",
       "      <td>[&lt;class 'float'&gt;]</td>\n",
       "      <td>100.0</td>\n",
       "      <td>0.0</td>\n",
       "      <td>0</td>\n",
       "    </tr>\n",
       "    <tr>\n",
       "      <th>5</th>\n",
       "      <td>name_district</td>\n",
       "      <td>[&lt;class 'str'&gt;]</td>\n",
       "      <td>100.0</td>\n",
       "      <td>0.0</td>\n",
       "      <td>0</td>\n",
       "    </tr>\n",
       "    <tr>\n",
       "      <th>6</th>\n",
       "      <td>direction</td>\n",
       "      <td>[&lt;class 'str'&gt;]</td>\n",
       "      <td>100.0</td>\n",
       "      <td>0.0</td>\n",
       "      <td>0</td>\n",
       "    </tr>\n",
       "    <tr>\n",
       "      <th>7</th>\n",
       "      <td>cant_stars</td>\n",
       "      <td>[&lt;class 'int'&gt;]</td>\n",
       "      <td>100.0</td>\n",
       "      <td>0.0</td>\n",
       "      <td>0</td>\n",
       "    </tr>\n",
       "    <tr>\n",
       "      <th>8</th>\n",
       "      <td>cant_reviews</td>\n",
       "      <td>[&lt;class 'int'&gt;]</td>\n",
       "      <td>100.0</td>\n",
       "      <td>0.0</td>\n",
       "      <td>0</td>\n",
       "    </tr>\n",
       "    <tr>\n",
       "      <th>9</th>\n",
       "      <td>min_price</td>\n",
       "      <td>[&lt;class 'str'&gt;]</td>\n",
       "      <td>100.0</td>\n",
       "      <td>0.0</td>\n",
       "      <td>0</td>\n",
       "    </tr>\n",
       "    <tr>\n",
       "      <th>10</th>\n",
       "      <td>max_price</td>\n",
       "      <td>[&lt;class 'str'&gt;]</td>\n",
       "      <td>100.0</td>\n",
       "      <td>0.0</td>\n",
       "      <td>0</td>\n",
       "    </tr>\n",
       "  </tbody>\n",
       "</table>\n",
       "</div>"
      ],
      "text/plain": [
       "      nombre_campo         tipo_datos  no_nulos_%  nulos_%  nulos\n",
       "0    id_restaurant    [<class 'int'>]       100.0      0.0      0\n",
       "1   name_restaurat    [<class 'str'>]       100.0      0.0      0\n",
       "2        food_type    [<class 'str'>]       100.0      0.0      0\n",
       "3         longitud  [<class 'float'>]       100.0      0.0      0\n",
       "4          latitud  [<class 'float'>]       100.0      0.0      0\n",
       "5    name_district    [<class 'str'>]       100.0      0.0      0\n",
       "6        direction    [<class 'str'>]       100.0      0.0      0\n",
       "7       cant_stars    [<class 'int'>]       100.0      0.0      0\n",
       "8     cant_reviews    [<class 'int'>]       100.0      0.0      0\n",
       "9        min_price    [<class 'str'>]       100.0      0.0      0\n",
       "10       max_price    [<class 'str'>]       100.0      0.0      0"
      ]
     },
     "execution_count": 93,
     "metadata": {},
     "output_type": "execute_result"
    }
   ],
   "source": [
    "#revisamos los tipos de datos y nulos. \n",
    "verificar_tipo_datos(restaurants)"
   ]
  },
  {
   "cell_type": "code",
   "execution_count": 94,
   "metadata": {},
   "outputs": [],
   "source": [
    "#restaurants.to_csv('Data/restaurants_cleaned.csv')"
   ]
  },
  {
   "cell_type": "code",
   "execution_count": 95,
   "metadata": {},
   "outputs": [
    {
     "data": {
      "text/html": [
       "<div>\n",
       "<style scoped>\n",
       "    .dataframe tbody tr th:only-of-type {\n",
       "        vertical-align: middle;\n",
       "    }\n",
       "\n",
       "    .dataframe tbody tr th {\n",
       "        vertical-align: top;\n",
       "    }\n",
       "\n",
       "    .dataframe thead th {\n",
       "        text-align: right;\n",
       "    }\n",
       "</style>\n",
       "<table border=\"1\" class=\"dataframe\">\n",
       "  <thead>\n",
       "    <tr style=\"text-align: right;\">\n",
       "      <th></th>\n",
       "      <th>id_review</th>\n",
       "      <th>review</th>\n",
       "      <th>title</th>\n",
       "      <th>score</th>\n",
       "      <th>likes</th>\n",
       "      <th>id_nick</th>\n",
       "      <th>service</th>\n",
       "      <th>date</th>\n",
       "      <th>platform</th>\n",
       "    </tr>\n",
       "  </thead>\n",
       "  <tbody>\n",
       "    <tr>\n",
       "      <th>0</th>\n",
       "      <td>R1245</td>\n",
       "      <td>Muy buena presentación y servicio sin embargo ...</td>\n",
       "      <td>Muy buena presentación y servicio</td>\n",
       "      <td>3.0</td>\n",
       "      <td>0</td>\n",
       "      <td>uisahelenad2018</td>\n",
       "      <td>71036.0</td>\n",
       "      <td>1 years ago</td>\n",
       "      <td>tripadvisor</td>\n",
       "    </tr>\n",
       "    <tr>\n",
       "      <th>1</th>\n",
       "      <td>R1246</td>\n",
       "      <td>Desde la presentación de los platos a la calid...</td>\n",
       "      <td>Una experiencia</td>\n",
       "      <td>5.0</td>\n",
       "      <td>0</td>\n",
       "      <td>turrutia</td>\n",
       "      <td>71036.0</td>\n",
       "      <td>1 years ago</td>\n",
       "      <td>tripadvisor</td>\n",
       "    </tr>\n",
       "    <tr>\n",
       "      <th>2</th>\n",
       "      <td>R1247</td>\n",
       "      <td>El mejor lugar para reencontrame con mis amigo...</td>\n",
       "      <td>Felicitaciones a Statera!</td>\n",
       "      <td>5.0</td>\n",
       "      <td>0</td>\n",
       "      <td>orthStar25333985745</td>\n",
       "      <td>71036.0</td>\n",
       "      <td>1 years ago</td>\n",
       "      <td>tripadvisor</td>\n",
       "    </tr>\n",
       "  </tbody>\n",
       "</table>\n",
       "</div>"
      ],
      "text/plain": [
       "  id_review                                             review  \\\n",
       "0     R1245  Muy buena presentación y servicio sin embargo ...   \n",
       "1     R1246  Desde la presentación de los platos a la calid...   \n",
       "2     R1247  El mejor lugar para reencontrame con mis amigo...   \n",
       "\n",
       "                               title  score  likes              id_nick  \\\n",
       "0  Muy buena presentación y servicio    3.0      0      uisahelenad2018   \n",
       "1                    Una experiencia    5.0      0             turrutia   \n",
       "2          Felicitaciones a Statera!    5.0      0  orthStar25333985745   \n",
       "\n",
       "   service         date     platform  \n",
       "0  71036.0  1 years ago  tripadvisor  \n",
       "1  71036.0  1 years ago  tripadvisor  \n",
       "2  71036.0  1 years ago  tripadvisor  "
      ]
     },
     "execution_count": 95,
     "metadata": {},
     "output_type": "execute_result"
    }
   ],
   "source": [
    "reviews = pd.read_csv('Data/reviews.csv') \n",
    "reviews.head(3)"
   ]
  },
  {
   "cell_type": "code",
   "execution_count": 96,
   "metadata": {},
   "outputs": [
    {
     "data": {
      "text/plain": [
       "array(['tripadvisor', 'googleplaces'], dtype=object)"
      ]
     },
     "execution_count": 96,
     "metadata": {},
     "output_type": "execute_result"
    }
   ],
   "source": [
    "reviews['platform'].unique()"
   ]
  },
  {
   "cell_type": "code",
   "execution_count": 97,
   "metadata": {},
   "outputs": [
    {
     "data": {
      "text/plain": [
       "Index(['id_review', 'review', 'title', 'score', 'likes', 'id_nick', 'service',\n",
       "       'date', 'platform'],\n",
       "      dtype='object')"
      ]
     },
     "execution_count": 97,
     "metadata": {},
     "output_type": "execute_result"
    }
   ],
   "source": [
    "reviews.columns"
   ]
  },
  {
   "cell_type": "markdown",
   "metadata": {},
   "source": [
    "Se puede ver las siguientes columnas: \n",
    "* id_review : Identificador de la reseña.\n",
    "* review : El texto de la reseña o el comentario.\n",
    "* title : Título de la reseña en pocas palbras o resumen.\n",
    "* score : La calificación que esa en un rango de 1 - 5.\n",
    "* likes: Cantidad de me gusta. \n",
    "* id_nick : Identificador del usuario.\n",
    "* service : Identificador del restaurante a quien se le hace la reseña.\n",
    "* date : Hace cuanto tiempo fue la reseña\n",
    "* platform : Plataforma o fuente de donde se obtuvo la información. "
   ]
  },
  {
   "cell_type": "markdown",
   "metadata": {},
   "source": [
    "# Modificamos los nombres de las columnas "
   ]
  },
  {
   "cell_type": "code",
   "execution_count": 98,
   "metadata": {},
   "outputs": [],
   "source": [
    "nuevos_nombres = {\n",
    "    'title': 'title_review',\n",
    "    'likes': 'cant_likes',\n",
    "    'service': 'id_restaurant'\n",
    "}\n",
    "\n",
    "# Utiliza el método rename() con el diccionario de nombres\n",
    "reviews.rename(columns=nuevos_nombres, inplace=True)"
   ]
  },
  {
   "cell_type": "markdown",
   "metadata": {},
   "source": [
    "Verificamos los tipos de datos y cantidad de nulos."
   ]
  },
  {
   "cell_type": "code",
   "execution_count": 99,
   "metadata": {},
   "outputs": [
    {
     "data": {
      "text/html": [
       "<div>\n",
       "<style scoped>\n",
       "    .dataframe tbody tr th:only-of-type {\n",
       "        vertical-align: middle;\n",
       "    }\n",
       "\n",
       "    .dataframe tbody tr th {\n",
       "        vertical-align: top;\n",
       "    }\n",
       "\n",
       "    .dataframe thead th {\n",
       "        text-align: right;\n",
       "    }\n",
       "</style>\n",
       "<table border=\"1\" class=\"dataframe\">\n",
       "  <thead>\n",
       "    <tr style=\"text-align: right;\">\n",
       "      <th></th>\n",
       "      <th>nombre_campo</th>\n",
       "      <th>tipo_datos</th>\n",
       "      <th>no_nulos_%</th>\n",
       "      <th>nulos_%</th>\n",
       "      <th>nulos</th>\n",
       "    </tr>\n",
       "  </thead>\n",
       "  <tbody>\n",
       "    <tr>\n",
       "      <th>0</th>\n",
       "      <td>id_review</td>\n",
       "      <td>[&lt;class 'str'&gt;]</td>\n",
       "      <td>100.0</td>\n",
       "      <td>0.0</td>\n",
       "      <td>0</td>\n",
       "    </tr>\n",
       "    <tr>\n",
       "      <th>1</th>\n",
       "      <td>review</td>\n",
       "      <td>[&lt;class 'str'&gt;, &lt;class 'float'&gt;]</td>\n",
       "      <td>60.0</td>\n",
       "      <td>40.0</td>\n",
       "      <td>503369</td>\n",
       "    </tr>\n",
       "    <tr>\n",
       "      <th>2</th>\n",
       "      <td>title_review</td>\n",
       "      <td>[&lt;class 'str'&gt;]</td>\n",
       "      <td>100.0</td>\n",
       "      <td>0.0</td>\n",
       "      <td>0</td>\n",
       "    </tr>\n",
       "    <tr>\n",
       "      <th>3</th>\n",
       "      <td>score</td>\n",
       "      <td>[&lt;class 'float'&gt;]</td>\n",
       "      <td>100.0</td>\n",
       "      <td>0.0</td>\n",
       "      <td>0</td>\n",
       "    </tr>\n",
       "    <tr>\n",
       "      <th>4</th>\n",
       "      <td>cant_likes</td>\n",
       "      <td>[&lt;class 'int'&gt;]</td>\n",
       "      <td>100.0</td>\n",
       "      <td>0.0</td>\n",
       "      <td>0</td>\n",
       "    </tr>\n",
       "    <tr>\n",
       "      <th>5</th>\n",
       "      <td>id_nick</td>\n",
       "      <td>[&lt;class 'str'&gt;]</td>\n",
       "      <td>100.0</td>\n",
       "      <td>0.0</td>\n",
       "      <td>0</td>\n",
       "    </tr>\n",
       "    <tr>\n",
       "      <th>6</th>\n",
       "      <td>id_restaurant</td>\n",
       "      <td>[&lt;class 'float'&gt;]</td>\n",
       "      <td>100.0</td>\n",
       "      <td>0.0</td>\n",
       "      <td>0</td>\n",
       "    </tr>\n",
       "    <tr>\n",
       "      <th>7</th>\n",
       "      <td>date</td>\n",
       "      <td>[&lt;class 'str'&gt;]</td>\n",
       "      <td>100.0</td>\n",
       "      <td>0.0</td>\n",
       "      <td>0</td>\n",
       "    </tr>\n",
       "    <tr>\n",
       "      <th>8</th>\n",
       "      <td>platform</td>\n",
       "      <td>[&lt;class 'str'&gt;]</td>\n",
       "      <td>100.0</td>\n",
       "      <td>0.0</td>\n",
       "      <td>0</td>\n",
       "    </tr>\n",
       "  </tbody>\n",
       "</table>\n",
       "</div>"
      ],
      "text/plain": [
       "    nombre_campo                        tipo_datos  no_nulos_%  nulos_%  \\\n",
       "0      id_review                   [<class 'str'>]       100.0      0.0   \n",
       "1         review  [<class 'str'>, <class 'float'>]        60.0     40.0   \n",
       "2   title_review                   [<class 'str'>]       100.0      0.0   \n",
       "3          score                 [<class 'float'>]       100.0      0.0   \n",
       "4     cant_likes                   [<class 'int'>]       100.0      0.0   \n",
       "5        id_nick                   [<class 'str'>]       100.0      0.0   \n",
       "6  id_restaurant                 [<class 'float'>]       100.0      0.0   \n",
       "7           date                   [<class 'str'>]       100.0      0.0   \n",
       "8       platform                   [<class 'str'>]       100.0      0.0   \n",
       "\n",
       "    nulos  \n",
       "0       0  \n",
       "1  503369  \n",
       "2       0  \n",
       "3       0  \n",
       "4       0  \n",
       "5       0  \n",
       "6       0  \n",
       "7       0  \n",
       "8       0  "
      ]
     },
     "execution_count": 99,
     "metadata": {},
     "output_type": "execute_result"
    }
   ],
   "source": [
    "verificar_tipo_datos(reviews)"
   ]
  },
  {
   "cell_type": "markdown",
   "metadata": {},
   "source": [
    "Modificamos el tipo de dato de la columna `review` a tipo string. "
   ]
  },
  {
   "cell_type": "code",
   "execution_count": 106,
   "metadata": {},
   "outputs": [],
   "source": [
    "reviews['review']=reviews['review'].astype(str)"
   ]
  },
  {
   "cell_type": "markdown",
   "metadata": {},
   "source": [
    "Eliminamos las columnas date y platform, esto debido a que date esta como un año antes, dos años antes, no está en tipo de dato ´date´, por lo tanto se vuelte irrelevante, y la columna `platform` tampoco sumará para el sistema de recomendacion. "
   ]
  },
  {
   "cell_type": "code",
   "execution_count": 108,
   "metadata": {},
   "outputs": [],
   "source": [
    "reviews = reviews.drop(columns=['date', 'platform'])"
   ]
  },
  {
   "cell_type": "markdown",
   "metadata": {},
   "source": [
    "Ahora verifiquemos y que todo este limpio, listo para procesar. "
   ]
  },
  {
   "cell_type": "code",
   "execution_count": 109,
   "metadata": {},
   "outputs": [
    {
     "data": {
      "text/html": [
       "<div>\n",
       "<style scoped>\n",
       "    .dataframe tbody tr th:only-of-type {\n",
       "        vertical-align: middle;\n",
       "    }\n",
       "\n",
       "    .dataframe tbody tr th {\n",
       "        vertical-align: top;\n",
       "    }\n",
       "\n",
       "    .dataframe thead th {\n",
       "        text-align: right;\n",
       "    }\n",
       "</style>\n",
       "<table border=\"1\" class=\"dataframe\">\n",
       "  <thead>\n",
       "    <tr style=\"text-align: right;\">\n",
       "      <th></th>\n",
       "      <th>nombre_campo</th>\n",
       "      <th>tipo_datos</th>\n",
       "      <th>no_nulos_%</th>\n",
       "      <th>nulos_%</th>\n",
       "      <th>nulos</th>\n",
       "    </tr>\n",
       "  </thead>\n",
       "  <tbody>\n",
       "    <tr>\n",
       "      <th>0</th>\n",
       "      <td>id_review</td>\n",
       "      <td>[&lt;class 'str'&gt;]</td>\n",
       "      <td>100.0</td>\n",
       "      <td>0.0</td>\n",
       "      <td>0</td>\n",
       "    </tr>\n",
       "    <tr>\n",
       "      <th>1</th>\n",
       "      <td>review</td>\n",
       "      <td>[&lt;class 'str'&gt;]</td>\n",
       "      <td>100.0</td>\n",
       "      <td>0.0</td>\n",
       "      <td>0</td>\n",
       "    </tr>\n",
       "    <tr>\n",
       "      <th>2</th>\n",
       "      <td>title_review</td>\n",
       "      <td>[&lt;class 'str'&gt;]</td>\n",
       "      <td>100.0</td>\n",
       "      <td>0.0</td>\n",
       "      <td>0</td>\n",
       "    </tr>\n",
       "    <tr>\n",
       "      <th>3</th>\n",
       "      <td>score</td>\n",
       "      <td>[&lt;class 'float'&gt;]</td>\n",
       "      <td>100.0</td>\n",
       "      <td>0.0</td>\n",
       "      <td>0</td>\n",
       "    </tr>\n",
       "    <tr>\n",
       "      <th>4</th>\n",
       "      <td>cant_likes</td>\n",
       "      <td>[&lt;class 'int'&gt;]</td>\n",
       "      <td>100.0</td>\n",
       "      <td>0.0</td>\n",
       "      <td>0</td>\n",
       "    </tr>\n",
       "    <tr>\n",
       "      <th>5</th>\n",
       "      <td>id_nick</td>\n",
       "      <td>[&lt;class 'str'&gt;]</td>\n",
       "      <td>100.0</td>\n",
       "      <td>0.0</td>\n",
       "      <td>0</td>\n",
       "    </tr>\n",
       "    <tr>\n",
       "      <th>6</th>\n",
       "      <td>id_restaurant</td>\n",
       "      <td>[&lt;class 'float'&gt;]</td>\n",
       "      <td>100.0</td>\n",
       "      <td>0.0</td>\n",
       "      <td>0</td>\n",
       "    </tr>\n",
       "  </tbody>\n",
       "</table>\n",
       "</div>"
      ],
      "text/plain": [
       "    nombre_campo         tipo_datos  no_nulos_%  nulos_%  nulos\n",
       "0      id_review    [<class 'str'>]       100.0      0.0      0\n",
       "1         review    [<class 'str'>]       100.0      0.0      0\n",
       "2   title_review    [<class 'str'>]       100.0      0.0      0\n",
       "3          score  [<class 'float'>]       100.0      0.0      0\n",
       "4     cant_likes    [<class 'int'>]       100.0      0.0      0\n",
       "5        id_nick    [<class 'str'>]       100.0      0.0      0\n",
       "6  id_restaurant  [<class 'float'>]       100.0      0.0      0"
      ]
     },
     "execution_count": 109,
     "metadata": {},
     "output_type": "execute_result"
    }
   ],
   "source": [
    "verificar_tipo_datos(reviews)"
   ]
  },
  {
   "cell_type": "code",
   "execution_count": 110,
   "metadata": {},
   "outputs": [],
   "source": [
    "reviews.to_csv('Data/reviews_cleaned.csv')"
   ]
  }
 ],
 "metadata": {
  "kernelspec": {
   "display_name": "Python 3",
   "language": "python",
   "name": "python3"
  },
  "language_info": {
   "codemirror_mode": {
    "name": "ipython",
    "version": 3
   },
   "file_extension": ".py",
   "mimetype": "text/x-python",
   "name": "python",
   "nbconvert_exporter": "python",
   "pygments_lexer": "ipython3",
   "version": "3.11.7"
  }
 },
 "nbformat": 4,
 "nbformat_minor": 2
}
